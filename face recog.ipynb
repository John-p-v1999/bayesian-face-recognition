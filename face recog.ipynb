{
  "nbformat": 4,
  "nbformat_minor": 0,
  "metadata": {
    "colab": {
      "name": "Untitled0.ipynb",
      "provenance": [],
      "machine_shape": "hm",
      "authorship_tag": "ABX9TyOcHS0g+YFDtIVJfLvAHizP",
      "include_colab_link": true
    },
    "kernelspec": {
      "name": "python3",
      "display_name": "Python 3"
    },
    "accelerator": "GPU"
  },
  "cells": [
    {
      "cell_type": "markdown",
      "metadata": {
        "id": "view-in-github",
        "colab_type": "text"
      },
      "source": [
        "<a href=\"https://colab.research.google.com/github/John-p-v1999/bayesian-face-recognition/blob/main/face%20recog.ipynb\" target=\"_parent\"><img src=\"https://colab.research.google.com/assets/colab-badge.svg\" alt=\"Open In Colab\"/></a>"
      ]
    },
    {
      "cell_type": "code",
      "metadata": {
        "id": "Hs0pwy9rdwta"
      },
      "source": [
        "# TensorFlow and tf.keras\n",
        "import tensorflow as tf\n",
        "from tensorflow import keras\n",
        "\n",
        "# Helper libraries\n",
        "import numpy as np\n",
        "import matplotlib.pyplot as plt\n",
        "from sklearn.naive_bayes import GaussianNB\n",
        "clf = GaussianNB()"
      ],
      "execution_count": 31,
      "outputs": []
    },
    {
      "cell_type": "code",
      "metadata": {
        "id": "1To3V9v2jAuI"
      },
      "source": [
        "fashion_mnist = keras.datasets.fashion_mnist\n",
        "\n",
        "(train_images, train_labels), (test_images, test_labels) = fashion_mnist.load_data()"
      ],
      "execution_count": 48,
      "outputs": []
    },
    {
      "cell_type": "code",
      "metadata": {
        "id": "8VTTU03RjD-r",
        "outputId": "b388743a-7084-4f76-fee2-8c4e3890201b",
        "colab": {
          "base_uri": "https://localhost:8080/",
          "height": 34
        }
      },
      "source": [
        "np.unique(train_labels)"
      ],
      "execution_count": 37,
      "outputs": [
        {
          "output_type": "execute_result",
          "data": {
            "text/plain": [
              "array([0, 1, 2, 3, 4, 5, 6, 7, 8, 9], dtype=uint8)"
            ]
          },
          "metadata": {
            "tags": []
          },
          "execution_count": 37
        }
      ]
    },
    {
      "cell_type": "code",
      "metadata": {
        "id": "lIJJG5YgjKp2"
      },
      "source": [
        "train_images=train_images+1\n",
        "test_images=test_images+1"
      ],
      "execution_count": 49,
      "outputs": []
    },
    {
      "cell_type": "code",
      "metadata": {
        "id": "VpD7nd1Mv_xp"
      },
      "source": [
        "train_images[0]"
      ],
      "execution_count": null,
      "outputs": []
    },
    {
      "cell_type": "code",
      "metadata": {
        "id": "LWGApbcrwHP9"
      },
      "source": [
        "train_images=train_images/256.0\n",
        "test_images=test_images/256.0"
      ],
      "execution_count": 51,
      "outputs": []
    },
    {
      "cell_type": "code",
      "metadata": {
        "id": "9zrgkZHskHa_"
      },
      "source": [
        "train_images=train_images.reshape(60000,28*28)"
      ],
      "execution_count": 52,
      "outputs": []
    },
    {
      "cell_type": "code",
      "metadata": {
        "id": "OCawPeeHko4G",
        "outputId": "ff16b4d8-7985-48ed-eab2-6354cc17d187",
        "colab": {
          "base_uri": "https://localhost:8080/",
          "height": 34
        }
      },
      "source": [
        "test_images.shape"
      ],
      "execution_count": 53,
      "outputs": [
        {
          "output_type": "execute_result",
          "data": {
            "text/plain": [
              "(10000, 28, 28)"
            ]
          },
          "metadata": {
            "tags": []
          },
          "execution_count": 53
        }
      ]
    },
    {
      "cell_type": "code",
      "metadata": {
        "id": "mlGpDHbDkdoD"
      },
      "source": [
        "test_images=test_images.reshape(10000,28*28)"
      ],
      "execution_count": 54,
      "outputs": []
    },
    {
      "cell_type": "code",
      "metadata": {
        "id": "CSCzsp-Ljd08"
      },
      "source": [
        "class NaiveBayes:\n",
        "  def fit(self,X,y):\n",
        "    n_samples,n_features= X.shape\n",
        "    self._classes=np.unique(y)\n",
        "    n_classes=len(self._classes)\n",
        "    self._mean=np.zeros((n_classes,n_features), dtype=np.float64)\n",
        "    self._var=np.zeros((n_classes,n_features), dtype=np.float64)\n",
        "    self._priors=np.zeros(n_classes, dtype=np.float64)\n",
        "    for i,c in enumerate(self._classes):\n",
        "      X_c = X[i==y]\n",
        "      self._mean[i,:] = X_c.mean(axis=0)\n",
        "      self._var[i,:] = X_c.var(axis=0) \n",
        "      self._priors[i] = X_c.shape[0]/float(n_samples)\n",
        "  def predict(self,X):\n",
        "    ypred=[self._predict(x) for x in X]\n",
        "    return ypred\n",
        "  def _predict(self,x):\n",
        "    posteriors=[]\n",
        "\n",
        "    for i,c in enumerate(self._classes):\n",
        "      prior= np.log(self._priors[i])\n",
        "      class_conditional = np.sum(np.log(self._pdf(i,x)))\n",
        "      posterior= prior+ class_conditional\n",
        "      posteriors.append(posterior)\n",
        "    return self._classes[np.argmax(posteriors)]\n",
        "\n",
        "\n",
        "  def _pdf(self,class_index,x):\n",
        "    mean=self._mean[class_index]\n",
        "    var=self._var[class_index]\n",
        "    numerator= np.exp(-(x-mean)**2/(2*var+0.01))  # the 0.01 value is added to avoid division by zero. the value 0.01 was arrived by trial and error\n",
        "    denominator=np.sqrt(2*np.pi*var)\n",
        "    return numerator/(denominator+1.0)              # the 1.0 value is added to avoid division by zero. the value 0.01 was arrived by trial and error"
      ],
      "execution_count": 92,
      "outputs": []
    },
    {
      "cell_type": "code",
      "metadata": {
        "id": "kP_gJYZhj-bg"
      },
      "source": [
        "nb=NaiveBayes()\n",
        "nb.fit(train_images, train_labels)"
      ],
      "execution_count": 93,
      "outputs": []
    },
    {
      "cell_type": "code",
      "metadata": {
        "id": "rPVgJw9flnv-",
        "outputId": "a0fd7a3d-a6a1-4c73-eea0-5af08d6ea9a8",
        "colab": {
          "base_uri": "https://localhost:8080/",
          "height": 34
        }
      },
      "source": [
        "print(nb._priors)"
      ],
      "execution_count": 57,
      "outputs": [
        {
          "output_type": "stream",
          "text": [
            "[0.1 0.1 0.1 0.1 0.1 0.1 0.1 0.1 0.1 0.1]\n"
          ],
          "name": "stdout"
        }
      ]
    },
    {
      "cell_type": "code",
      "metadata": {
        "id": "3Y9QDlsQkWRW"
      },
      "source": [
        "def accuracy(y_true,y_pred):\n",
        "  accuracy= np.sum(y_true == y_pred) / len(y_true)\n",
        "  return accuracy"
      ],
      "execution_count": 94,
      "outputs": []
    },
    {
      "cell_type": "code",
      "metadata": {
        "id": "YBVUBRz-kZdg",
        "outputId": "be4120ee-67e1-4c10-ad2e-9afc429d8d32",
        "colab": {
          "base_uri": "https://localhost:8080/",
          "height": 34
        }
      },
      "source": [
        "predictions=nb.predict(test_images)\n",
        "print(accuracy(test_labels,predictions))"
      ],
      "execution_count": 95,
      "outputs": [
        {
          "output_type": "stream",
          "text": [
            "0.714\n"
          ],
          "name": "stdout"
        }
      ]
    },
    {
      "cell_type": "code",
      "metadata": {
        "id": "VVJ7CgE6pFsS",
        "outputId": "6092c55c-bd4a-4c2d-8492-d2b67b2c627e",
        "colab": {
          "base_uri": "https://localhost:8080/",
          "height": 34
        }
      },
      "source": [
        "clf.fit(train_images, train_labels)"
      ],
      "execution_count": 32,
      "outputs": [
        {
          "output_type": "execute_result",
          "data": {
            "text/plain": [
              "GaussianNB(priors=None, var_smoothing=1e-09)"
            ]
          },
          "metadata": {
            "tags": []
          },
          "execution_count": 32
        }
      ]
    },
    {
      "cell_type": "code",
      "metadata": {
        "id": "yyx7rTl2pK2j",
        "outputId": "870bae66-4a2a-49ed-f0f6-28adb3d2b4d3",
        "colab": {
          "base_uri": "https://localhost:8080/",
          "height": 34
        }
      },
      "source": [
        "clf.score(test_images,test_labels)"
      ],
      "execution_count": 33,
      "outputs": [
        {
          "output_type": "execute_result",
          "data": {
            "text/plain": [
              "0.5856"
            ]
          },
          "metadata": {
            "tags": []
          },
          "execution_count": 33
        }
      ]
    },
    {
      "cell_type": "code",
      "metadata": {
        "id": "N7pAr9LopP3L"
      },
      "source": [
        ""
      ],
      "execution_count": null,
      "outputs": []
    }
  ]
}