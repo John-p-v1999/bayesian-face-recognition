{
  "nbformat": 4,
  "nbformat_minor": 0,
  "metadata": {
    "colab": {
      "name": "basic naive bayes.ipynb",
      "provenance": [],
      "authorship_tag": "ABX9TyPptBRWR1VstiJjA0MbNaBk",
      "include_colab_link": true
    },
    "kernelspec": {
      "name": "python3",
      "display_name": "Python 3"
    }
  },
  "cells": [
    {
      "cell_type": "markdown",
      "metadata": {
        "id": "view-in-github",
        "colab_type": "text"
      },
      "source": [
        "<a href=\"https://colab.research.google.com/github/John-p-v1999/bayesian-face-recognition/blob/main/basic_naive_bayes.ipynb\" target=\"_parent\"><img src=\"https://colab.research.google.com/assets/colab-badge.svg\" alt=\"Open In Colab\"/></a>"
      ]
    },
    {
      "cell_type": "code",
      "metadata": {
        "id": "Xk3OBHPIGAVC"
      },
      "source": [
        "import numpy as np\n"
      ],
      "execution_count": null,
      "outputs": []
    },
    {
      "cell_type": "code",
      "metadata": {
        "id": "zMzp5qAPHNlF"
      },
      "source": [
        " class NaiveBayes:\n",
        "   def fit(self,X,y):\n",
        "     n_samples,n_features= X.shape\n",
        "     self._classes=np.unique(y)\n",
        "     n_classes=len(self._classes)\n",
        "     self._mean=np.zeros((n_classes,n_features), dtype=np.float64)\n",
        "     self._var=np.zeros((n_classes,n_features), dtype=np.float64)\n",
        "     self._priors=np.zeros(n_classes, dtype=np.float64)\n",
        "     for i,c in enumerate(self._classes):\n",
        "       X_c = X[c==y]\n",
        "       self._mean[i,:] = X_c.mean(axis=0)\n",
        "       self._var[i,:] = X_c.var(axis=0) \n",
        "       self._priors[i] = X_c.shape[0]/float(n_samples)\n",
        "   def predict(self,X):\n",
        "     ypred=[self._predict(x) for x in X]\n",
        "     return ypred\n",
        "   def _predict(self,x):\n",
        "     posteriors=[]\n",
        "\n",
        "     for i,c in enumerate(self._classes):\n",
        "       prior= np.log(self._priors[i])\n",
        "       class_conditional = np.sum(np.log(self._pdf(i,x)))\n",
        "       posterior= prior+ class_conditional\n",
        "       posteriors.append(posterior)\n",
        "     return self._classes[np.argmax(posteriors)]\n",
        "\n",
        "\n",
        "   def _pdf(self,class_index,x):\n",
        "     mean=self._mean[class_index]\n",
        "     var=self._var[class_index]\n",
        "     numerator= np.exp(-(x-mean)**2/(2*var))\n",
        "     denominator=np.sqrt(2*np.pi*var)\n",
        "     return numerator/denominator\n",
        "\n",
        "     \n",
        "\n",
        "\n",
        "\n",
        "  "
      ],
      "execution_count": null,
      "outputs": []
    },
    {
      "cell_type": "code",
      "metadata": {
        "id": "GdF7X278UzHf"
      },
      "source": [
        "pip install -U scikit-learn"
      ],
      "execution_count": null,
      "outputs": []
    },
    {
      "cell_type": "code",
      "metadata": {
        "id": "znM1S_N8UbKU"
      },
      "source": [
        "from sklearn.model_selection import train_test_split\n",
        "from sklearn import datasets\n",
        "import matplotlib.pyplot as plt"
      ],
      "execution_count": null,
      "outputs": []
    },
    {
      "cell_type": "code",
      "metadata": {
        "id": "8zc4goLyUv8B",
        "outputId": "0e31b9cf-dd77-4ad8-b99b-a9de25150676",
        "colab": {
          "base_uri": "https://localhost:8080/",
          "height": 232
        }
      },
      "source": [
        "!pip install nb"
      ],
      "execution_count": null,
      "outputs": [
        {
          "output_type": "stream",
          "text": [
            "Collecting nb\n",
            "  Downloading https://files.pythonhosted.org/packages/bb/6e/61bb6bc713014c5c5c3544bf5c77b41e8bffc181326dbba6cb9bb3214dc0/nb-0.1.2.tar.gz\n",
            "Requirement already satisfied: docopt>=0.6.2 in /usr/local/lib/python3.6/dist-packages (from nb) (0.6.2)\n",
            "Requirement already satisfied: PyYAML>=3.11 in /usr/local/lib/python3.6/dist-packages (from nb) (3.13)\n",
            "Building wheels for collected packages: nb\n",
            "  Building wheel for nb (setup.py) ... \u001b[?25l\u001b[?25hdone\n",
            "  Created wheel for nb: filename=nb-0.1.2-cp36-none-any.whl size=5359 sha256=b73aea5b0a643daafa73c17e2fcea60c95b93cea0fbe355c13cbbaf24ae6d639\n",
            "  Stored in directory: /root/.cache/pip/wheels/ce/9c/6c/0418034cbd8baa2bb090c45ca08c992c7dd1562cb73827ca11\n",
            "Successfully built nb\n",
            "Installing collected packages: nb\n",
            "Successfully installed nb-0.1.2\n"
          ],
          "name": "stdout"
        }
      ]
    },
    {
      "cell_type": "code",
      "metadata": {
        "id": "5c2ORXLfV1J0"
      },
      "source": [
        "def accuracy(y_true,y_pred):\n",
        "  accuracy= np.sum(y_true == y_pred) / len(y_true)\n",
        "  return accuracy\n"
      ],
      "execution_count": null,
      "outputs": []
    },
    {
      "cell_type": "code",
      "metadata": {
        "id": "Xsz7P8b6WFdD",
        "outputId": "71c88c7f-f47f-401c-fc3d-65fe69aee65d",
        "colab": {
          "base_uri": "https://localhost:8080/",
          "height": 34
        }
      },
      "source": [
        "X,y =datasets.make_classification(n_samples=1000, n_features = 10, n_classes = 2, random_state =123)\n",
        "X_train, X_test, y_train, y_test = train_test_split(X,y,test_size= 0.2, random_state=123)\n",
        "nb=NaiveBayes()\n",
        "nb.fit(X_train, y_train)\n",
        "predictions=nb.predict(X_test)\n",
        "print(accuracy(y_test,predictions))"
      ],
      "execution_count": null,
      "outputs": [
        {
          "output_type": "stream",
          "text": [
            "0.965\n"
          ],
          "name": "stdout"
        }
      ]
    }
  ]
}